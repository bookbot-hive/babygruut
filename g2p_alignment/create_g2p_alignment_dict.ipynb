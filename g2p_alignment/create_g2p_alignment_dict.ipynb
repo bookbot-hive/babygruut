{
 "cells": [
  {
   "cell_type": "code",
   "execution_count": 1,
   "metadata": {},
   "outputs": [],
   "source": [
    "def get_word_from_alignment(alignment):\n",
    "    alignment_list = alignment.split(\" \")\n",
    "    word = \"\"\n",
    "    for alignment in alignment_list:\n",
    "        char, phoneme = alignment.split(\"}\")\n",
    "        chars = char.split(\"|\")\n",
    "        for c in chars:\n",
    "            word += c\n",
    "    return word\n",
    "\n",
    "\n",
    "alignment_list = []\n",
    "with open(\"./lang-id/lexicon_id.corpus\", \"r\") as f:\n",
    "    alignments = f.readlines()\n",
    "    for alignment in alignments:\n",
    "        alignment = alignment.strip()\n",
    "        word = get_word_from_alignment(alignment)\n",
    "        alignment_list.append({word: alignment})"
   ]
  },
  {
   "cell_type": "code",
   "execution_count": 2,
   "metadata": {},
   "outputs": [
    {
     "data": {
      "text/plain": [
       "[{'a': 'a}a'}, {'b': 'b}b|e'}, {'c': 'c}tʃ|e'}, {'d': 'd}d|e'}, {'e': 'e}e'}]"
      ]
     },
     "execution_count": 2,
     "metadata": {},
     "output_type": "execute_result"
    }
   ],
   "source": [
    "alignment_list[:5]"
   ]
  },
  {
   "cell_type": "code",
   "execution_count": 3,
   "metadata": {},
   "outputs": [],
   "source": [
    "import pandas as pd\n",
    "\n",
    "# Initialize an empty list to store the data\n",
    "data = []\n",
    "\n",
    "i = 0\n",
    "with open(\"./lang-id/lexicon_id.dict\", \"r\") as f:\n",
    "    for line in f:\n",
    "        word, phonemes = line.strip().split(\"\\t\")\n",
    "        try:\n",
    "            alignment = alignment_list[i][word]\n",
    "            data.append([word, phonemes, alignment])\n",
    "            i += 1\n",
    "        except KeyError:\n",
    "            data.append([word, phonemes, \"\"])\n",
    "            continue\n",
    "\n",
    "# Create a DataFrame from the data\n",
    "df = pd.DataFrame(data, columns=['word', 'phonemes', 'g2p_alignment'])\n",
    "\n",
    "# Write the DataFrame to a CSV file\n",
    "df.to_csv(\"./lang-id/lexicon_id.csv\", index=False)\n"
   ]
  }
 ],
 "metadata": {
  "kernelspec": {
   "display_name": "base",
   "language": "python",
   "name": "python3"
  },
  "language_info": {
   "codemirror_mode": {
    "name": "ipython",
    "version": 3
   },
   "file_extension": ".py",
   "mimetype": "text/x-python",
   "name": "python",
   "nbconvert_exporter": "python",
   "pygments_lexer": "ipython3",
   "version": "3.12.2"
  }
 },
 "nbformat": 4,
 "nbformat_minor": 2
}
