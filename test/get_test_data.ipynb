{
 "cells": [
  {
   "cell_type": "code",
   "execution_count": 6,
   "metadata": {},
   "outputs": [],
   "source": [
    "with open(\"/home/s44504/3b01c699-3670-469b-801f-13880b9cac56/dataset_creation/data/english_book_transcripts_clean.txt\", \"r\") as file:\n",
    "    transcripts = [f.strip() for f in file]\n",
    "\n",
    "with open(\"english_test_sentences.txt\", \"w\") as file:\n",
    "    for transcript in transcripts[:10000]:\n",
    "        file.write(transcript + \"\\n\")\n"
   ]
  },
  {
   "cell_type": "code",
   "execution_count": 5,
   "metadata": {},
   "outputs": [],
   "source": [
    "with open(\"/home/s44504/3b01c699-3670-469b-801f-13880b9cac56/dataset_creation/data/swahili_transcripts.txt\", \"r\") as file:\n",
    "    transcripts = [f.strip() for f in file]\n",
    "\n",
    "with open(\"swahili_test_sentences.txt\", \"w\") as file:\n",
    "    for transcript in transcripts[:10000]:\n",
    "        file.write(transcript + \"\\n\")\n"
   ]
  }
 ],
 "metadata": {
  "kernelspec": {
   "display_name": "vad",
   "language": "python",
   "name": "python3"
  },
  "language_info": {
   "codemirror_mode": {
    "name": "ipython",
    "version": 3
   },
   "file_extension": ".py",
   "mimetype": "text/x-python",
   "name": "python",
   "nbconvert_exporter": "python",
   "pygments_lexer": "ipython3",
   "version": "3.9.19"
  }
 },
 "nbformat": 4,
 "nbformat_minor": 2
}
